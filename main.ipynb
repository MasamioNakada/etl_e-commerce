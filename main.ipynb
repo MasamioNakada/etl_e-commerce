{
 "cells": [
  {
   "cell_type": "code",
   "execution_count": 1,
   "metadata": {},
   "outputs": [],
   "source": [
    "import pandas as pd\n",
    "import numpy as np\n",
    "import matplotlib.pyplot as plt\n",
    "import seaborn as sns"
   ]
  },
  {
   "cell_type": "code",
   "execution_count": 2,
   "metadata": {},
   "outputs": [
    {
     "name": "stdout",
     "output_type": "stream",
     "text": [
      " _________________________________________________________ \n",
      "< CanalDeVenta do not have [Fecha, Fecha_Entrega] columns > \n",
      " --------------------------------------------------------- \n",
      "        \\   ^__^ \n",
      "         \\  (oo)\\_______ \n",
      "            (__)\\  error )\\/\\ \n",
      "                ||----w | \n",
      "                ||     || \n",
      " _____________________________________________________ \n",
      "< Clientes do not have [Fecha, Fecha_Entrega] columns > \n",
      " ----------------------------------------------------- \n",
      "        \\   ^__^ \n",
      "         \\  (oo)\\_______ \n",
      "            (__)\\  error )\\/\\ \n",
      "                ||----w | \n",
      "                ||     || \n",
      " ______________________________________ \n",
      "< Se cambio la columna Fecha en Compra > \n",
      " -------------------------------------- \n",
      "        \\   ^__^ \n",
      "         \\  (oo)\\_______ \n",
      "            (__)\\  good )\\/\\ \n",
      "                ||----w | \n",
      "                ||     || \n",
      " _____________________________________ \n",
      "< Se cambio la columna Fecha en Gasto > \n",
      " ------------------------------------- \n",
      "        \\   ^__^ \n",
      "         \\  (oo)\\_______ \n",
      "            (__)\\  good )\\/\\ \n",
      "                ||----w | \n",
      "                ||     || \n",
      " ________________________________________________________ \n",
      "< Proveedores do not have [Fecha, Fecha_Entrega] columns > \n",
      " -------------------------------------------------------- \n",
      "        \\   ^__^ \n",
      "         \\  (oo)\\_______ \n",
      "            (__)\\  error )\\/\\ \n",
      "                ||----w | \n",
      "                ||     || \n",
      " _______________________________________________________ \n",
      "< Sucursales do not have [Fecha, Fecha_Entrega] columns > \n",
      " ------------------------------------------------------- \n",
      "        \\   ^__^ \n",
      "         \\  (oo)\\_______ \n",
      "            (__)\\  error )\\/\\ \n",
      "                ||----w | \n",
      "                ||     || \n",
      " _________________________________________________________ \n",
      "< TiposDeGasto do not have [Fecha, Fecha_Entrega] columns > \n",
      " --------------------------------------------------------- \n",
      "        \\   ^__^ \n",
      "         \\  (oo)\\_______ \n",
      "            (__)\\  error )\\/\\ \n",
      "                ||----w | \n",
      "                ||     || \n",
      " _____________________________________ \n",
      "< Se cambio la columna Fecha en Venta > \n",
      " ------------------------------------- \n",
      "        \\   ^__^ \n",
      "         \\  (oo)\\_______ \n",
      "            (__)\\  good )\\/\\ \n",
      "                ||----w | \n",
      "                ||     || \n"
     ]
    }
   ],
   "source": [
    "from utils import Data, Say\n",
    "from load import Load\n",
    "import pandas as pd\n",
    "\n",
    "import resume \n",
    "\n",
    "say = Say()\n",
    "load = Load(path=\"in\")\n",
    "data = Data(path=\"in\")\n",
    "try:\n",
    "    labels = data.get_labels(path=\"in\")\n",
    "    data_dict = load.load_datasets_from_csv(path=\"in\")\n",
    "except ValueError:\n",
    "    say.cow_says_error('Error al cargar base de datos')\n",
    "\n",
    "data_dict = resume.dataset_date_iter(data_dict, labels)\n"
   ]
  },
  {
   "cell_type": "code",
   "execution_count": 13,
   "metadata": {},
   "outputs": [],
   "source": [
    "df_ventas = pd.read_csv('in/Venta.csv')\n",
    "from scipy import stats"
   ]
  },
  {
   "cell_type": "code",
   "execution_count": 27,
   "metadata": {},
   "outputs": [],
   "source": [
    "def null_review(df):\n",
    "    null_serie = df.isnull().sum()\n",
    "    null_serie = null_serie[null_serie != 0]\n",
    "    return null_serie\n",
    "\n",
    "\n",
    "def null_percentage(df):\n",
    "    null_serie = null_review(df)\n",
    "    total = df.shape[0]\n",
    "    null_dict = {}\n",
    "    for i in range(null_serie.size):\n",
    "        percent = round(null_serie.values[i] * 100 / total, 2)\n",
    "        null_dict[null_serie.index[i]] = percent\n",
    "    return null_dict\n",
    "\n",
    "def null_all_percentage(df):\n",
    "    null_serie = null_review(df)\n",
    "    null_sum = null_serie.sum()\n",
    "    total = df.shape[0]\n",
    "    null_sum_percent = null_sum/total\n",
    "    return null_sum_percent\n",
    "\n",
    "\n",
    "def outlier_detect(df):\n",
    "    ban_list = [\"Telefono\", \"X\", \"Y\", \"Latitud\", \"Longitud\"]\n",
    "    z_dict = {}\n",
    "    outlier_dict = {}\n",
    "    for col in df.columns:\n",
    "        if df[col].dtypes == np.float64:\n",
    "            if col in ban_list:\n",
    "                continue\n",
    "            else:\n",
    "                z = np.abs(stats.zscore(df[col].dropna()))\n",
    "                z_dict[col] = z\n",
    "\n",
    "                outlier_dict[col] = z_dict[col][z_dict[col] > 3]\n",
    "    return outlier_dict\n",
    "\n",
    "\n",
    "def outlier_percent(df):\n",
    "    percent_outlier_dict = {}\n",
    "    outlier_dict = outlier_detect(df)\n",
    "    total = df.shape[0]\n",
    "\n",
    "    for i in range(len(outlier_dict.keys())):\n",
    "        percent = len(list(outlier_dict.values())[i]) * 100 / total\n",
    "        percent_outlier_dict[list(outlier_dict.keys())[i]] = percent\n",
    "\n",
    "    return percent_outlier_dict"
   ]
  },
  {
   "cell_type": "code",
   "execution_count": null,
   "metadata": {},
   "outputs": [],
   "source": []
  },
  {
   "cell_type": "code",
   "execution_count": 32,
   "metadata": {},
   "outputs": [
    {
     "data": {
      "text/plain": [
       "1.5331312256388048"
      ]
     },
     "execution_count": 32,
     "metadata": {},
     "output_type": "execute_result"
    }
   ],
   "source": [
    "outlier_dict = outlier_detect(df_ventas)\n",
    "total = df_ventas.shape[0]\n",
    "percent = 0\n",
    "for i in range(len(outlier_dict.keys())):\n",
    "    percent += len(list(outlier_dict.values())[i]) * 100 / total\n",
    "percent\n",
    "\n"
   ]
  },
  {
   "cell_type": "code",
   "execution_count": 4,
   "metadata": {},
   "outputs": [
    {
     "ename": "NameError",
     "evalue": "name 'dt' is not defined",
     "output_type": "error",
     "traceback": [
      "\u001b[1;31m---------------------------------------------------------------------------\u001b[0m",
      "\u001b[1;31mNameError\u001b[0m                                 Traceback (most recent call last)",
      "\u001b[1;32mc:\\Masami\\Henry\\ProyectoIndividual\\main.ipynb Cell 4'\u001b[0m in \u001b[0;36m<cell line: 4>\u001b[1;34m()\u001b[0m\n\u001b[0;32m      <a href='vscode-notebook-cell:/c%3A/Masami/Henry/ProyectoIndividual/main.ipynb#ch0000003?line=1'>2</a>\u001b[0m null\u001b[39m.\u001b[39msuptitle(\u001b[39mf\u001b[39m\u001b[39m'\u001b[39m\u001b[39mValores nulos de \u001b[39m\u001b[39m{\u001b[39;00mlabels[\u001b[39m-\u001b[39m\u001b[39m1\u001b[39m]\u001b[39m}\u001b[39;00m\u001b[39m'\u001b[39m)\n\u001b[0;32m      <a href='vscode-notebook-cell:/c%3A/Masami/Henry/ProyectoIndividual/main.ipynb#ch0000003?line=2'>3</a>\u001b[0m axs[\u001b[39m0\u001b[39m]\u001b[39m.\u001b[39mset_title(\u001b[39m'\u001b[39m\u001b[39mHola\u001b[39m\u001b[39m'\u001b[39m)\n\u001b[1;32m----> <a href='vscode-notebook-cell:/c%3A/Masami/Henry/ProyectoIndividual/main.ipynb#ch0000003?line=3'>4</a>\u001b[0m sns\u001b[39m.\u001b[39mbarplot(ax\u001b[39m=\u001b[39maxs[\u001b[39m0\u001b[39m],x\u001b[39m=\u001b[39mdt\u001b[39m.\u001b[39mindex,y\u001b[39m=\u001b[39mdt\u001b[39m.\u001b[39mvalues)\n\u001b[0;32m      <a href='vscode-notebook-cell:/c%3A/Masami/Henry/ProyectoIndividual/main.ipynb#ch0000003?line=4'>5</a>\u001b[0m plt\u001b[39m.\u001b[39mtight_layout()\n\u001b[0;32m      <a href='vscode-notebook-cell:/c%3A/Masami/Henry/ProyectoIndividual/main.ipynb#ch0000003?line=5'>6</a>\u001b[0m plt\u001b[39m.\u001b[39mshow()\n",
      "\u001b[1;31mNameError\u001b[0m: name 'dt' is not defined"
     ]
    },
    {
     "data": {
      "image/png": "[encoded data removed]",
      "text/plain": [
       "<Figure size 432x288 with 2 Axes>"
      ]
     },
     "metadata": {
      "needs_background": "light"
     },
     "output_type": "display_data"
    }
   ],
   "source": [
    "null, axs = plt.subplots(2,1)\n",
    "null.suptitle(f'Valores nulos de {labels[-1]}')\n",
    "axs[0].set_title('Hola')\n",
    "sns.barplot(ax=axs[0],x=dt.index,y=dt.values)\n",
    "plt.tight_layout()\n",
    "plt.show()"
   ]
  },
  {
   "cell_type": "code",
   "execution_count": 6,
   "metadata": {},
   "outputs": [
    {
     "ename": "FileNotFoundError",
     "evalue": "[Errno 2] No such file or directory: 'in/Localidades.csv'",
     "output_type": "error",
     "traceback": [
      "\u001b[1;31m---------------------------------------------------------------------------\u001b[0m",
      "\u001b[1;31mFileNotFoundError\u001b[0m                         Traceback (most recent call last)",
      "\u001b[1;32mc:\\Masami\\Henry\\ProyectoIndividual\\main.ipynb Cell 5'\u001b[0m in \u001b[0;36m<cell line: 1>\u001b[1;34m()\u001b[0m\n\u001b[1;32m----> <a href='vscode-notebook-cell:/c%3A/Masami/Henry/ProyectoIndividual/main.ipynb#ch0000004?line=0'>1</a>\u001b[0m df_localidades \u001b[39m=\u001b[39m pd\u001b[39m.\u001b[39;49mread_csv(\u001b[39m'\u001b[39;49m\u001b[39min/Localidades.csv\u001b[39;49m\u001b[39m'\u001b[39;49m)\n\u001b[0;32m      <a href='vscode-notebook-cell:/c%3A/Masami/Henry/ProyectoIndividual/main.ipynb#ch0000004?line=1'>2</a>\u001b[0m df_localidades\u001b[39m.\u001b[39mto_csv(\u001b[39m'\u001b[39m\u001b[39mout/localidades.csv\u001b[39m\u001b[39m'\u001b[39m, index\u001b[39m=\u001b[39m\u001b[39mFalse\u001b[39;00m, header\u001b[39m=\u001b[39m\u001b[39mFalse\u001b[39;00m, encoding\u001b[39m=\u001b[39m\u001b[39m'\u001b[39m\u001b[39mutf-8\u001b[39m\u001b[39m'\u001b[39m)\n",
      "File \u001b[1;32mc:\\Masami\\Henry\\ProyectoIndividual\\venv\\lib\\site-packages\\pandas\\util\\_decorators.py:311\u001b[0m, in \u001b[0;36mdeprecate_nonkeyword_arguments.<locals>.decorate.<locals>.wrapper\u001b[1;34m(*args, **kwargs)\u001b[0m\n\u001b[0;32m    305\u001b[0m \u001b[39mif\u001b[39;00m \u001b[39mlen\u001b[39m(args) \u001b[39m>\u001b[39m num_allow_args:\n\u001b[0;32m    306\u001b[0m     warnings\u001b[39m.\u001b[39mwarn(\n\u001b[0;32m    307\u001b[0m         msg\u001b[39m.\u001b[39mformat(arguments\u001b[39m=\u001b[39marguments),\n\u001b[0;32m    308\u001b[0m         \u001b[39mFutureWarning\u001b[39;00m,\n\u001b[0;32m    309\u001b[0m         stacklevel\u001b[39m=\u001b[39mstacklevel,\n\u001b[0;32m    310\u001b[0m     )\n\u001b[1;32m--> 311\u001b[0m \u001b[39mreturn\u001b[39;00m func(\u001b[39m*\u001b[39margs, \u001b[39m*\u001b[39m\u001b[39m*\u001b[39mkwargs)\n",
      "File \u001b[1;32mc:\\Masami\\Henry\\ProyectoIndividual\\venv\\lib\\site-packages\\pandas\\io\\parsers\\readers.py:680\u001b[0m, in \u001b[0;36mread_csv\u001b[1;34m(filepath_or_buffer, sep, delimiter, header, names, index_col, usecols, squeeze, prefix, mangle_dupe_cols, dtype, engine, converters, true_values, false_values, skipinitialspace, skiprows, skipfooter, nrows, na_values, keep_default_na, na_filter, verbose, skip_blank_lines, parse_dates, infer_datetime_format, keep_date_col, date_parser, dayfirst, cache_dates, iterator, chunksize, compression, thousands, decimal, lineterminator, quotechar, quoting, doublequote, escapechar, comment, encoding, encoding_errors, dialect, error_bad_lines, warn_bad_lines, on_bad_lines, delim_whitespace, low_memory, memory_map, float_precision, storage_options)\u001b[0m\n\u001b[0;32m    665\u001b[0m kwds_defaults \u001b[39m=\u001b[39m _refine_defaults_read(\n\u001b[0;32m    666\u001b[0m     dialect,\n\u001b[0;32m    667\u001b[0m     delimiter,\n\u001b[1;32m   (...)\u001b[0m\n\u001b[0;32m    676\u001b[0m     defaults\u001b[39m=\u001b[39m{\u001b[39m\"\u001b[39m\u001b[39mdelimiter\u001b[39m\u001b[39m\"\u001b[39m: \u001b[39m\"\u001b[39m\u001b[39m,\u001b[39m\u001b[39m\"\u001b[39m},\n\u001b[0;32m    677\u001b[0m )\n\u001b[0;32m    678\u001b[0m kwds\u001b[39m.\u001b[39mupdate(kwds_defaults)\n\u001b[1;32m--> 680\u001b[0m \u001b[39mreturn\u001b[39;00m _read(filepath_or_buffer, kwds)\n",
      "File \u001b[1;32mc:\\Masami\\Henry\\ProyectoIndividual\\venv\\lib\\site-packages\\pandas\\io\\parsers\\readers.py:575\u001b[0m, in \u001b[0;36m_read\u001b[1;34m(filepath_or_buffer, kwds)\u001b[0m\n\u001b[0;32m    572\u001b[0m _validate_names(kwds\u001b[39m.\u001b[39mget(\u001b[39m\"\u001b[39m\u001b[39mnames\u001b[39m\u001b[39m\"\u001b[39m, \u001b[39mNone\u001b[39;00m))\n\u001b[0;32m    574\u001b[0m \u001b[39m# Create the parser.\u001b[39;00m\n\u001b[1;32m--> 575\u001b[0m parser \u001b[39m=\u001b[39m TextFileReader(filepath_or_buffer, \u001b[39m*\u001b[39m\u001b[39m*\u001b[39mkwds)\n\u001b[0;32m    577\u001b[0m \u001b[39mif\u001b[39;00m chunksize \u001b[39mor\u001b[39;00m iterator:\n\u001b[0;32m    578\u001b[0m     \u001b[39mreturn\u001b[39;00m parser\n",
      "File \u001b[1;32mc:\\Masami\\Henry\\ProyectoIndividual\\venv\\lib\\site-packages\\pandas\\io\\parsers\\readers.py:933\u001b[0m, in \u001b[0;36mTextFileReader.__init__\u001b[1;34m(self, f, engine, **kwds)\u001b[0m\n\u001b[0;32m    930\u001b[0m     \u001b[39mself\u001b[39m\u001b[39m.\u001b[39moptions[\u001b[39m\"\u001b[39m\u001b[39mhas_index_names\u001b[39m\u001b[39m\"\u001b[39m] \u001b[39m=\u001b[39m kwds[\u001b[39m\"\u001b[39m\u001b[39mhas_index_names\u001b[39m\u001b[39m\"\u001b[39m]\n\u001b[0;32m    932\u001b[0m \u001b[39mself\u001b[39m\u001b[39m.\u001b[39mhandles: IOHandles \u001b[39m|\u001b[39m \u001b[39mNone\u001b[39;00m \u001b[39m=\u001b[39m \u001b[39mNone\u001b[39;00m\n\u001b[1;32m--> 933\u001b[0m \u001b[39mself\u001b[39m\u001b[39m.\u001b[39m_engine \u001b[39m=\u001b[39m \u001b[39mself\u001b[39;49m\u001b[39m.\u001b[39;49m_make_engine(f, \u001b[39mself\u001b[39;49m\u001b[39m.\u001b[39;49mengine)\n",
      "File \u001b[1;32mc:\\Masami\\Henry\\ProyectoIndividual\\venv\\lib\\site-packages\\pandas\\io\\parsers\\readers.py:1217\u001b[0m, in \u001b[0;36mTextFileReader._make_engine\u001b[1;34m(self, f, engine)\u001b[0m\n\u001b[0;32m   1213\u001b[0m     mode \u001b[39m=\u001b[39m \u001b[39m\"\u001b[39m\u001b[39mrb\u001b[39m\u001b[39m\"\u001b[39m\n\u001b[0;32m   1214\u001b[0m \u001b[39m# error: No overload variant of \"get_handle\" matches argument types\u001b[39;00m\n\u001b[0;32m   1215\u001b[0m \u001b[39m# \"Union[str, PathLike[str], ReadCsvBuffer[bytes], ReadCsvBuffer[str]]\"\u001b[39;00m\n\u001b[0;32m   1216\u001b[0m \u001b[39m# , \"str\", \"bool\", \"Any\", \"Any\", \"Any\", \"Any\", \"Any\"\u001b[39;00m\n\u001b[1;32m-> 1217\u001b[0m \u001b[39mself\u001b[39m\u001b[39m.\u001b[39mhandles \u001b[39m=\u001b[39m get_handle(  \u001b[39m# type: ignore[call-overload]\u001b[39;49;00m\n\u001b[0;32m   1218\u001b[0m     f,\n\u001b[0;32m   1219\u001b[0m     mode,\n\u001b[0;32m   1220\u001b[0m     encoding\u001b[39m=\u001b[39;49m\u001b[39mself\u001b[39;49m\u001b[39m.\u001b[39;49moptions\u001b[39m.\u001b[39;49mget(\u001b[39m\"\u001b[39;49m\u001b[39mencoding\u001b[39;49m\u001b[39m\"\u001b[39;49m, \u001b[39mNone\u001b[39;49;00m),\n\u001b[0;32m   1221\u001b[0m     compression\u001b[39m=\u001b[39;49m\u001b[39mself\u001b[39;49m\u001b[39m.\u001b[39;49moptions\u001b[39m.\u001b[39;49mget(\u001b[39m\"\u001b[39;49m\u001b[39mcompression\u001b[39;49m\u001b[39m\"\u001b[39;49m, \u001b[39mNone\u001b[39;49;00m),\n\u001b[0;32m   1222\u001b[0m     memory_map\u001b[39m=\u001b[39;49m\u001b[39mself\u001b[39;49m\u001b[39m.\u001b[39;49moptions\u001b[39m.\u001b[39;49mget(\u001b[39m\"\u001b[39;49m\u001b[39mmemory_map\u001b[39;49m\u001b[39m\"\u001b[39;49m, \u001b[39mFalse\u001b[39;49;00m),\n\u001b[0;32m   1223\u001b[0m     is_text\u001b[39m=\u001b[39;49mis_text,\n\u001b[0;32m   1224\u001b[0m     errors\u001b[39m=\u001b[39;49m\u001b[39mself\u001b[39;49m\u001b[39m.\u001b[39;49moptions\u001b[39m.\u001b[39;49mget(\u001b[39m\"\u001b[39;49m\u001b[39mencoding_errors\u001b[39;49m\u001b[39m\"\u001b[39;49m, \u001b[39m\"\u001b[39;49m\u001b[39mstrict\u001b[39;49m\u001b[39m\"\u001b[39;49m),\n\u001b[0;32m   1225\u001b[0m     storage_options\u001b[39m=\u001b[39;49m\u001b[39mself\u001b[39;49m\u001b[39m.\u001b[39;49moptions\u001b[39m.\u001b[39;49mget(\u001b[39m\"\u001b[39;49m\u001b[39mstorage_options\u001b[39;49m\u001b[39m\"\u001b[39;49m, \u001b[39mNone\u001b[39;49;00m),\n\u001b[0;32m   1226\u001b[0m )\n\u001b[0;32m   1227\u001b[0m \u001b[39massert\u001b[39;00m \u001b[39mself\u001b[39m\u001b[39m.\u001b[39mhandles \u001b[39mis\u001b[39;00m \u001b[39mnot\u001b[39;00m \u001b[39mNone\u001b[39;00m\n\u001b[0;32m   1228\u001b[0m f \u001b[39m=\u001b[39m \u001b[39mself\u001b[39m\u001b[39m.\u001b[39mhandles\u001b[39m.\u001b[39mhandle\n",
      "File \u001b[1;32mc:\\Masami\\Henry\\ProyectoIndividual\\venv\\lib\\site-packages\\pandas\\io\\common.py:789\u001b[0m, in \u001b[0;36mget_handle\u001b[1;34m(path_or_buf, mode, encoding, compression, memory_map, is_text, errors, storage_options)\u001b[0m\n\u001b[0;32m    784\u001b[0m \u001b[39melif\u001b[39;00m \u001b[39misinstance\u001b[39m(handle, \u001b[39mstr\u001b[39m):\n\u001b[0;32m    785\u001b[0m     \u001b[39m# Check whether the filename is to be opened in binary mode.\u001b[39;00m\n\u001b[0;32m    786\u001b[0m     \u001b[39m# Binary mode does not support 'encoding' and 'newline'.\u001b[39;00m\n\u001b[0;32m    787\u001b[0m     \u001b[39mif\u001b[39;00m ioargs\u001b[39m.\u001b[39mencoding \u001b[39mand\u001b[39;00m \u001b[39m\"\u001b[39m\u001b[39mb\u001b[39m\u001b[39m\"\u001b[39m \u001b[39mnot\u001b[39;00m \u001b[39min\u001b[39;00m ioargs\u001b[39m.\u001b[39mmode:\n\u001b[0;32m    788\u001b[0m         \u001b[39m# Encoding\u001b[39;00m\n\u001b[1;32m--> 789\u001b[0m         handle \u001b[39m=\u001b[39m \u001b[39mopen\u001b[39;49m(\n\u001b[0;32m    790\u001b[0m             handle,\n\u001b[0;32m    791\u001b[0m             ioargs\u001b[39m.\u001b[39;49mmode,\n\u001b[0;32m    792\u001b[0m             encoding\u001b[39m=\u001b[39;49mioargs\u001b[39m.\u001b[39;49mencoding,\n\u001b[0;32m    793\u001b[0m             errors\u001b[39m=\u001b[39;49merrors,\n\u001b[0;32m    794\u001b[0m             newline\u001b[39m=\u001b[39;49m\u001b[39m\"\u001b[39;49m\u001b[39m\"\u001b[39;49m,\n\u001b[0;32m    795\u001b[0m         )\n\u001b[0;32m    796\u001b[0m     \u001b[39melse\u001b[39;00m:\n\u001b[0;32m    797\u001b[0m         \u001b[39m# Binary mode\u001b[39;00m\n\u001b[0;32m    798\u001b[0m         handle \u001b[39m=\u001b[39m \u001b[39mopen\u001b[39m(handle, ioargs\u001b[39m.\u001b[39mmode)\n",
      "\u001b[1;31mFileNotFoundError\u001b[0m: [Errno 2] No such file or directory: 'in/Localidades.csv'"
     ]
    }
   ],
   "source": [
    "df_localidades = pd.read_csv('in/Localidades.csv')\n"
   ]
  },
  {
   "cell_type": "markdown",
   "metadata": {},
   "source": [
    " "
   ]
  },
  {
   "cell_type": "code",
   "execution_count": null,
   "metadata": {},
   "outputs": [
    {
     "data": {
      "text/plain": [
       "array(['Buenos Aires', 'Catamarca', 'Córdoba', 'Corrientes', 'Chaco',\n",
       "       'Chubut', 'Entre Ríos', 'Formosa', 'Jujuy', 'La Pampa', 'La Rioja',\n",
       "       'Mendoza', 'Misiones', 'Neuquén', 'Río Negro', 'Salta', 'San Juan',\n",
       "       'San Luis', 'Santa Cruz', 'Santa Fe', 'Santiago del Estero',\n",
       "       'Tucumán', 'Tierra del Fuego, Antártida e Islas del Atlántico Sur'],\n",
       "      dtype=object)"
      ]
     },
     "execution_count": 298,
     "metadata": {},
     "output_type": "execute_result"
    }
   ],
   "source": [
    "df_localidades.departamento_nombre.unique()\n",
    "df_localidades.municipio_nombre.unique()\n",
    "df_localidades.localidad_censal_nombre.unique()\n",
    "df_localidades.provincia_nombre.unique()\n"
   ]
  },
  {
   "cell_type": "code",
   "execution_count": null,
   "metadata": {},
   "outputs": [],
   "source": [
    "df_sucursales = pd.read_csv('in/Sucursales.csv', sep=';')\n",
    "buenos_aires = ['Ciudad de Buenos Aires', 'CABA', 'C deBuenos Aires', 'Bs As', 'Bs.As. ', 'Buenos Aires', 'B. Aires', 'B.Aires', 'Provincia de Buenos Aires', 'Prov de Bs As.', 'Pcia Bs AS']\n"
   ]
  },
  {
   "cell_type": "code",
   "execution_count": null,
   "metadata": {},
   "outputs": [],
   "source": [
    "df_sucursales[['Latitud','Longitud']] = pd.to_numeric(df_sucursales[['Latitud','Longitud']], errors = \"coerce\")\n",
    "df_sucursales[['Latitud','Longitud']] = df_sucursales[['Latitud','Longitud']].replace(np.nan, 0, regex=True)\n",
    "\n",
    "df_sucursales[['Latitud','Longitud']].dtypes\n"
   ]
  },
  {
   "cell_type": "code",
   "execution_count": null,
   "metadata": {},
   "outputs": [
    {
     "data": {
      "text/plain": [
       "'Latitud'"
      ]
     },
     "execution_count": 318,
     "metadata": {},
     "output_type": "execute_result"
    }
   ],
   "source": [
    "cord_label = ['Latitud','Longitud']\n",
    "\n"
   ]
  },
  {
   "cell_type": "code",
   "execution_count": null,
   "metadata": {},
   "outputs": [
    {
     "data": {
      "text/plain": [
       "0    -34,5678060\n",
       "1    -34,5790350\n",
       "2    -34,5959660\n",
       "3    -34,6046850\n",
       "4    -34,6173080\n",
       "Name: Latitud, dtype: object"
      ]
     },
     "execution_count": 337,
     "metadata": {},
     "output_type": "execute_result"
    }
   ],
   "source": [
    "df_sucursales.Latitud.head()"
   ]
  },
  {
   "cell_type": "code",
   "execution_count": null,
   "metadata": {},
   "outputs": [],
   "source": [
    "df_sucursales = pd.read_csv('in/Sucursales.csv', sep=';')"
   ]
  },
  {
   "cell_type": "code",
   "execution_count": null,
   "metadata": {},
   "outputs": [
    {
     "data": {
      "text/plain": [
       "0   -58.449572\n",
       "1   -58.433566\n",
       "2   -58.405150\n",
       "3   -58.398764\n",
       "4   -58.416179\n",
       "Name: Longitud, dtype: float64"
      ]
     },
     "execution_count": 377,
     "metadata": {},
     "output_type": "execute_result"
    }
   ],
   "source": [
    "cord_label = ['Latitud','Longitud']\n",
    "for label in cord_label:\n",
    "    df_sucursales[label] = df_sucursales[label].replace(',','.',regex=True)   \n",
    "    df_sucursales[label] = df_sucursales[label].astype(float)\n",
    "    df_sucursales[label] = df_sucursales[label].apply(lambda x : -x if x > 0 else x )\n",
    "\n",
    "df_sucursales.Longitud.head()\n"
   ]
  },
  {
   "cell_type": "code",
   "execution_count": null,
   "metadata": {},
   "outputs": [],
   "source": [
    "df_clientes = pd.read_csv('in/Clientes.csv', sep=';')\n"
   ]
  },
  {
   "cell_type": "code",
   "execution_count": null,
   "metadata": {},
   "outputs": [
    {
     "data": {
      "text/plain": [
       "0   -58.818503\n",
       "1   -58.730738\n",
       "2   -59.127941\n",
       "3   -58.143940\n",
       "4   -58.893810\n",
       "Name: X, dtype: float64"
      ]
     },
     "execution_count": 386,
     "metadata": {},
     "output_type": "execute_result"
    }
   ],
   "source": [
    "cord_label = ['X','Y']\n",
    "for label in cord_label:\n",
    "    df_clientes[label] = df_clientes[label].replace(',','.',regex=True)   \n",
    "    df_clientes[label] = df_clientes[label].replace('',np.nan,regex=True)\n",
    "    df_clientes[label] = pd.to_numeric(df_clientes[label], errors='coerce')\n",
    "    df_clientes[label] = df_clientes[label].apply(lambda x : -x if x > 0 else x )\n",
    "\n"
   ]
  },
  {
   "cell_type": "code",
   "execution_count": null,
   "metadata": {},
   "outputs": [],
   "source": [
    "df_clientes = pd.read_csv('in/Clientes.csv', sep=';')\n"
   ]
  },
  {
   "cell_type": "code",
   "execution_count": null,
   "metadata": {},
   "outputs": [],
   "source": [
    "df_clientes['Telefono'] = df_clientes['Telefono'].replace('-','', regex= True)\n",
    "df_clientes['Telefono'] = df_clientes['Telefono'].replace('/','', regex= True)\n",
    "df_clientes['Telefono'] = df_clientes['Telefono'].replace(' ','', regex= True)\n",
    "df_clientes['Telefono'] = pd.to_numeric(df_clientes['Telefono'], errors='coerce',downcast='integer')\n"
   ]
  },
  {
   "cell_type": "code",
   "execution_count": null,
   "metadata": {},
   "outputs": [
    {
     "data": {
      "text/plain": [
       "0    58.0\n",
       "1    61.0\n",
       "2    15.0\n",
       "3    29.0\n",
       "4    34.0\n",
       "Name: Edad, dtype: float64"
      ]
     },
     "execution_count": 431,
     "metadata": {},
     "output_type": "execute_result"
    }
   ],
   "source": [
    "df_clientes['Edad'] = pd.to_numeric(df_clientes['Edad'])\n",
    "df_clientes['Edad'].head()"
   ]
  },
  {
   "cell_type": "code",
   "execution_count": 90,
   "metadata": {},
   "outputs": [],
   "source": [
    "import pandas as pd\n",
    "import matplotlib.pyplot as plt\n",
    "import seaborn as sns\n",
    "\n",
    "from scipy import stats\n",
    "import numpy as np\n",
    "\n",
    "\n",
    "def null_review(df):\n",
    "    null_serie = df.isnull().sum()\n",
    "    null_serie = null_serie[null_serie != 0]\n",
    "    return null_serie\n",
    "\n",
    "\n",
    "def null_percentage(df):\n",
    "    null_serie = null_review(df)\n",
    "    total = df.shape[0]\n",
    "    null_dict = {}\n",
    "    for i in range(null_serie.size):\n",
    "        percent = round(null_serie.values[i] * 100 / total, 2)\n",
    "        null_dict[null_serie.index[i]] = percent\n",
    "    return null_dict\n",
    "\n",
    "\n",
    "def null_all_percentage(df):\n",
    "    null_serie = null_review(df)\n",
    "    null_sum = null_serie.sum()\n",
    "    total = df.shape[0]\n",
    "    null_sum_percent = null_sum / total\n",
    "    return float(null_sum_percent)\n",
    "\n",
    "\n",
    "def outlier_detect(df):\n",
    "    ban_list = [\"Telefono\", \"X\", \"Y\", \"Latitud\", \"Longitud\"]\n",
    "    z_dict = {}\n",
    "    outlier_dict = {}\n",
    "    for col in df.columns:\n",
    "        if df[col].dtypes == np.float64:\n",
    "            if col in ban_list:\n",
    "                continue\n",
    "            else:\n",
    "                z = np.abs(stats.zscore(df[col].dropna()))\n",
    "                z_dict[col] = z\n",
    "\n",
    "                outlier_dict[col] = z_dict[col][z_dict[col] > 3]\n",
    "    return outlier_dict\n",
    "\n",
    "\n",
    "def outlier_percent(df):\n",
    "    percent_outlier_dict = {}\n",
    "    outlier_dict = outlier_detect(df)\n",
    "    total = df.shape[0]\n",
    "\n",
    "    for i in range(len(outlier_dict.keys())):\n",
    "        percent = len(list(outlier_dict.values())[i]) * 100 / total\n",
    "        percent_outlier_dict[list(outlier_dict.keys())[i]] = percent\n",
    "\n",
    "    return percent_outlier_dict\n",
    "\n",
    "\n",
    "def outlier_all_percent(df):\n",
    "    outlier_dict = outlier_detect(df)\n",
    "    total = df.shape[0]\n",
    "    percent = 0\n",
    "    for i in range(len(outlier_dict.keys())):\n",
    "        percent += len(list(outlier_dict.values())[i]) * 100 / total\n",
    "    return percent\n",
    "\n",
    "\n",
    "def visual_report(df):\n",
    "    \n",
    "    nulls = null_all_percentage(df)\n",
    "    outliers = outlier_all_percent(df)\n",
    "    sin_error = 100 - nulls - outliers\n",
    "    height = np.array([nulls, sin_error, outliers])\n",
    "    visual=['no_error', 'outlier','null']\n",
    "    plt.bar(visual, height, align=\"center\")\n",
    "    plt.bar_label(null, sin_error)\n",
    "    return plt.show()"
   ]
  },
  {
   "cell_type": "code",
   "execution_count": 132,
   "metadata": {},
   "outputs": [],
   "source": [
    "\n",
    "def visual_report(df,label):\n",
    "    nulls = null_all_percentage(df)\n",
    "    outliers = outlier_all_percent(df)\n",
    "\n",
    "    sin_error = 100 - nulls - outliers\n",
    "\n",
    "    height = np.array([nulls, sin_error, outliers])\n",
    "    visual=['no_error', 'outlier','null']\n",
    "\n",
    "    fig, ax = plt.subplots()\n",
    "    bar = ax.bar(visual,height, align='center',color=[ '#19C5AF', '#FDF400', '#E455AD'])\n",
    "    \n",
    "    ax.set_title(f'Tabla {label}')\n",
    "    ax.set_ylabel('Porcentaje')\n",
    "\n",
    "    ax.bar_label(bar, label_type='center', padding=8, fontsize=12)\n",
    "    plt.savefig(f'{label}_data_quality.png')\n",
    "    plt.show()"
   ]
  },
  {
   "cell_type": "code",
   "execution_count": 133,
   "metadata": {},
   "outputs": [
    {
     "data": {
      "image/png": "[encoded data removed]",
      "text/plain": [
       "<Figure size 432x288 with 1 Axes>"
      ]
     },
     "metadata": {
      "needs_background": "light"
     },
     "output_type": "display_data"
    }
   ],
   "source": [
    "visual_report(df_ventas,'ventas')"
   ]
  }
 ],
 "metadata": {
  "kernelspec": {
   "display_name": "Python 3.9.12 ('venv': venv)",
   "language": "python",
   "name": "python3"
  },
  "language_info": {
   "codemirror_mode": {
    "name": "ipython",
    "version": 3
   },
   "file_extension": ".py",
   "mimetype": "text/x-python",
   "name": "python",
   "nbconvert_exporter": "python",
   "pygments_lexer": "ipython3",
   "version": "3.9.12"
  },
  "orig_nbformat": 4,
  "vscode": {
   "interpreter": {
    "hash": "694550a4d64ca4b44afa919430488b2abe5c558e085f12481e73a8a8679a82b4"
   }
  }
 },
 "nbformat": 4,
 "nbformat_minor": 2
}
