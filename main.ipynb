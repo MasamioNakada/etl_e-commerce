{
 "cells": [
  {
   "cell_type": "code",
   "execution_count": null,
   "metadata": {},
   "outputs": [],
   "source": [
    "import pandas as pd\n",
    "import numpy as np"
   ]
  },
  {
   "cell_type": "code",
   "execution_count": null,
   "metadata": {},
   "outputs": [],
   "source": [
    "clientes_pd = pd.read_csv('in/Clientes.csv', sep=';', encoding='utf-8')\n",
    "compra_pd = pd.read_csv('in/Compra.csv', encoding='utf-8')\n",
    "gastos_pd = pd.read_csv('in/Gasto.csv', encoding='utf-8')\n",
    "localidades_pd = pd.read_csv('in/Gasto.csv', encoding='utf-8')\n",
    "proveedores_pd = pd.read_csv('in/Proveedores.csv')\n",
    "sucursales_pd = pd.read_csv('in/Sucursales.csv', sep= ';',encoding='utf-8')\n",
    "venta_pd = pd.read_csv('in/Sucursales.csv',sep=';',encoding='utf-8')\n",
    "\n",
    "\n"
   ]
  },
  {
   "cell_type": "code",
   "execution_count": null,
   "metadata": {},
   "outputs": [
    {
     "data": {
      "text/html": [
       "<div>\n",
       "<style scoped>\n",
       "    .dataframe tbody tr th:only-of-type {\n",
       "        vertical-align: middle;\n",
       "    }\n",
       "\n",
       "    .dataframe tbody tr th {\n",
       "        vertical-align: top;\n",
       "    }\n",
       "\n",
       "    .dataframe thead th {\n",
       "        text-align: right;\n",
       "    }\n",
       "</style>\n",
       "<table border=\"1\" class=\"dataframe\">\n",
       "  <thead>\n",
       "    <tr style=\"text-align: right;\">\n",
       "      <th></th>\n",
       "      <th>ID</th>\n",
       "      <th>Sucursal</th>\n",
       "      <th>Direccion</th>\n",
       "      <th>Localidad</th>\n",
       "      <th>Provincia</th>\n",
       "      <th>Latitud</th>\n",
       "      <th>Longitud</th>\n",
       "    </tr>\n",
       "  </thead>\n",
       "  <tbody>\n",
       "    <tr>\n",
       "      <th>0</th>\n",
       "      <td>1</td>\n",
       "      <td>Cabildo</td>\n",
       "      <td>Av. Cabildo 1342</td>\n",
       "      <td>Ciudad de Buenos Aires</td>\n",
       "      <td>Ciudad de Buenos Aires</td>\n",
       "      <td>-34,5678060</td>\n",
       "      <td>-58,4495720</td>\n",
       "    </tr>\n",
       "    <tr>\n",
       "      <th>1</th>\n",
       "      <td>2</td>\n",
       "      <td>Palermo 1</td>\n",
       "      <td>Guatemala 5701</td>\n",
       "      <td>CABA</td>\n",
       "      <td>CABA</td>\n",
       "      <td>-34,5790350</td>\n",
       "      <td>-58,4335660</td>\n",
       "    </tr>\n",
       "    <tr>\n",
       "      <th>2</th>\n",
       "      <td>3</td>\n",
       "      <td>Palermo 2</td>\n",
       "      <td>Gral. Lucio Norberto Mansilla 2668</td>\n",
       "      <td>CABA</td>\n",
       "      <td>C deBuenos Aires</td>\n",
       "      <td>-34,5959660</td>\n",
       "      <td>-58,4051500</td>\n",
       "    </tr>\n",
       "    <tr>\n",
       "      <th>3</th>\n",
       "      <td>4</td>\n",
       "      <td>Corrientes</td>\n",
       "      <td>Av. Corrientes 2352</td>\n",
       "      <td>Ciudad de Buenos Aires</td>\n",
       "      <td>Bs As</td>\n",
       "      <td>-34,6046850</td>\n",
       "      <td>-58,3987640</td>\n",
       "    </tr>\n",
       "    <tr>\n",
       "      <th>4</th>\n",
       "      <td>5</td>\n",
       "      <td>Almagro</td>\n",
       "      <td>Venezuela 3650</td>\n",
       "      <td>Capital</td>\n",
       "      <td>Bs.As.</td>\n",
       "      <td>-34,6173080</td>\n",
       "      <td>-58,4161790</td>\n",
       "    </tr>\n",
       "  </tbody>\n",
       "</table>\n",
       "</div>"
      ],
      "text/plain": [
       "   ID    Sucursal                           Direccion               Localidad  \\\n",
       "0   1     Cabildo                    Av. Cabildo 1342  Ciudad de Buenos Aires   \n",
       "1   2   Palermo 1                      Guatemala 5701                    CABA   \n",
       "2   3   Palermo 2  Gral. Lucio Norberto Mansilla 2668                    CABA   \n",
       "3   4  Corrientes                 Av. Corrientes 2352  Ciudad de Buenos Aires   \n",
       "4   5     Almagro                      Venezuela 3650                 Capital   \n",
       "\n",
       "                Provincia      Latitud     Longitud  \n",
       "0  Ciudad de Buenos Aires  -34,5678060  -58,4495720  \n",
       "1                    CABA  -34,5790350  -58,4335660  \n",
       "2        C deBuenos Aires  -34,5959660  -58,4051500  \n",
       "3                   Bs As  -34,6046850  -58,3987640  \n",
       "4                 Bs.As.   -34,6173080  -58,4161790  "
      ]
     },
     "execution_count": 25,
     "metadata": {},
     "output_type": "execute_result"
    }
   ],
   "source": [
    "clientes_pd.head()\n",
    "compra_pd.head()\n",
    "gastos_pd.head()\n",
    "localidades_pd.head()\n",
    "proveedores_pd.head()\n",
    "sucursales_pd.head()\n",
    "venta_pd.head()\n"
   ]
  },
  {
   "cell_type": "code",
   "execution_count": 28,
   "metadata": {},
   "outputs": [
    {
     "ename": "SyntaxError",
     "evalue": "invalid syntax (3624690819.py, line 3)",
     "output_type": "error",
     "traceback": [
      "\u001b[1;36m  Input \u001b[1;32mIn [28]\u001b[1;36m\u001b[0m\n\u001b[1;33m    in = './in'\u001b[0m\n\u001b[1;37m    ^\u001b[0m\n\u001b[1;31mSyntaxError\u001b[0m\u001b[1;31m:\u001b[0m invalid syntax\n"
     ]
    }
   ],
   "source": [
    "import os\n",
    "\n",
    "in = 'in'\n",
    "\n",
    "label_path = os.listdir(in)\n",
    "labels = sorted(label_path)\n",
    "print(f'Datasets Labels: {labels}')\n",
    "num_class = len(labels)\n",
    "image_files = [[os.path.join(in, class_name, x)\n",
    "                for x in os.listdir(os.path.join(in, class_name))]\n",
    "               for class_name in labels]"
   ]
  },
  {
   "cell_type": "code",
   "execution_count": null,
   "metadata": {},
   "outputs": [],
   "source": [
    "import os\n",
    "\n",
    "in = 'in'\n",
    "\n",
    "\n",
    "labels = os.listdir(train_dir)\n",
    "\n",
    "print(f'Datasets Labels: {labels}')\n",
    "num_class = len(labels)\n",
    "image_files = [[os.path.join(train_dir, class_name, x)\n",
    "                for x in os.listdir(os.path.join(train_dir, class_name))]\n",
    "               for class_name in labels]"
   ]
  }
 ],
 "metadata": {
  "kernelspec": {
   "display_name": "Python 3.9.5 64-bit",
   "language": "python",
   "name": "python3"
  },
  "language_info": {
   "codemirror_mode": {
    "name": "ipython",
    "version": 3
   },
   "file_extension": ".py",
   "mimetype": "text/x-python",
   "name": "python",
   "nbconvert_exporter": "python",
   "pygments_lexer": "ipython3",
   "version": "3.9.5"
  },
  "orig_nbformat": 4,
  "vscode": {
   "interpreter": {
    "hash": "62939cffaf3738bbc51b67feedae315a96f833a89dd775a8934aadd695f34ad2"
   }
  }
 },
 "nbformat": 4,
 "nbformat_minor": 2
}
