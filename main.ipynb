{
 "cells": [
  {
   "cell_type": "code",
   "execution_count": 491,
   "metadata": {},
   "outputs": [],
   "source": [
    "import pandas as pd\n",
    "import numpy as np\n",
    "import matplotlib.pyplot as plt\n",
    "import seaborn as sns"
   ]
  },
  {
   "cell_type": "code",
   "execution_count": 492,
   "metadata": {},
   "outputs": [
    {
     "name": "stdout",
     "output_type": "stream",
     "text": [
      " _____________________________________________________ \n",
      "< Clientes do not have [Fecha, Fecha_Entrega] columns > \n",
      " ----------------------------------------------------- \n",
      "        \\   ^__^ \n",
      "         \\  (oo)\\_______ \n",
      "            (__)\\  error )\\/\\ \n",
      "                ||----w | \n",
      "                ||     || \n",
      " ______________________________________ \n",
      "< Se cambio la columna Fecha en Compra > \n",
      " -------------------------------------- \n",
      "        \\   ^__^ \n",
      "         \\  (oo)\\_______ \n",
      "            (__)\\  good )\\/\\ \n",
      "                ||----w | \n",
      "                ||     || \n",
      " _____________________________________ \n",
      "< Se cambio la columna Fecha en Gasto > \n",
      " ------------------------------------- \n",
      "        \\   ^__^ \n",
      "         \\  (oo)\\_______ \n",
      "            (__)\\  good )\\/\\ \n",
      "                ||----w | \n",
      "                ||     || \n",
      " ________________________________________________________ \n",
      "< Localidades do not have [Fecha, Fecha_Entrega] columns > \n",
      " -------------------------------------------------------- \n",
      "        \\   ^__^ \n",
      "         \\  (oo)\\_______ \n",
      "            (__)\\  error )\\/\\ \n",
      "                ||----w | \n",
      "                ||     || \n",
      " ________________________________________________________ \n",
      "< Proveedores do not have [Fecha, Fecha_Entrega] columns > \n",
      " -------------------------------------------------------- \n",
      "        \\   ^__^ \n",
      "         \\  (oo)\\_______ \n",
      "            (__)\\  error )\\/\\ \n",
      "                ||----w | \n",
      "                ||     || \n",
      " _______________________________________________________ \n",
      "< Sucursales do not have [Fecha, Fecha_Entrega] columns > \n",
      " ------------------------------------------------------- \n",
      "        \\   ^__^ \n",
      "         \\  (oo)\\_______ \n",
      "            (__)\\  error )\\/\\ \n",
      "                ||----w | \n",
      "                ||     || \n",
      " _________________________________________________________ \n",
      "< TiposDeGasto do not have [Fecha, Fecha_Entrega] columns > \n",
      " --------------------------------------------------------- \n",
      "        \\   ^__^ \n",
      "         \\  (oo)\\_______ \n",
      "            (__)\\  error )\\/\\ \n",
      "                ||----w | \n",
      "                ||     || \n",
      " _____________________________________ \n",
      "< Se cambio la columna Fecha en Venta > \n",
      " ------------------------------------- \n",
      "        \\   ^__^ \n",
      "         \\  (oo)\\_______ \n",
      "            (__)\\  good )\\/\\ \n",
      "                ||----w | \n",
      "                ||     || \n"
     ]
    }
   ],
   "source": [
    "from utils import Data, Say\n",
    "from load import Load\n",
    "import pandas as pd\n",
    "\n",
    "import resume \n",
    "\n",
    "say = Say()\n",
    "load = Load(path=\"in\")\n",
    "data = Data(path=\"in\")\n",
    "try:\n",
    "    labels = data.get_labels(path=\"in\")\n",
    "    data_dict = load.load_datasets_from_csv(path=\"in\")\n",
    "except ValueError:\n",
    "    say.cow_says_error('Error al cargar base de datos')\n",
    "\n",
    "data_dict = resume.dataset_date_iter(data_dict, labels)\n"
   ]
  },
  {
   "cell_type": "code",
   "execution_count": 493,
   "metadata": {},
   "outputs": [],
   "source": [
    "def null_review(dataframe):\n",
    "    null_serie = dataframe.isnull().sum()\n",
    "    null_serie = null_serie[null_serie != 0]\n",
    "    return null_serie\n",
    "\n",
    "def null_percentage(dataframe):\n",
    "    null_serie = null_review(dataframe)\n",
    "    total = dataframe.shape[0]\n",
    "    null_dict = {}\n",
    "    for i in range(null_serie.size):\n",
    "        percent = round(null_serie.values[i]*100/total,2)\n",
    "        null_dict[null_serie.index[i]] = percent\n",
    "\n",
    "    return null_dict"
   ]
  },
  {
   "cell_type": "code",
   "execution_count": 494,
   "metadata": {},
   "outputs": [],
   "source": [
    "df_venta = data_dict['Venta']"
   ]
  },
  {
   "cell_type": "code",
   "execution_count": 521,
   "metadata": {},
   "outputs": [],
   "source": [
    "from scipy import stats\n",
    "\n",
    "\n",
    "def outlier_detect(df):\n",
    "    ban_list = ['Telefono','X','Y','Latitud','Longitud']\n",
    "    z_dict = {}\n",
    "    outlier_dict={}\n",
    "    for col in df.columns:\n",
    "        if df[col].dtypes == np.float64:\n",
    "            if col in ban_list:\n",
    "                continue\n",
    "            else:\n",
    "                z = np.abs(stats.zscore(df[col].dropna()))\n",
    "                z_dict[col] = z\n",
    "\n",
    "                outlier_dict[col] = z_dict[col][z_dict[col] > 3]\n",
    "    return outlier_dict\n",
    "        \n",
    "\n",
    "\n",
    "    "
   ]
  },
  {
   "cell_type": "code",
   "execution_count": 563,
   "metadata": {},
   "outputs": [],
   "source": [
    "def outlier_percent(df):\n",
    "    percent_outlier_dict={}\n",
    "    outlier_dict = outlier_detect(df)\n",
    "    total = df.shape[0]\n",
    "\n",
    "    for i in range(len(outlier_dict.keys())):\n",
    "        percent = len(list(outlier_dict.values())[i])*100/total\n",
    "        percent_outlier_dict[list(outlier_dict.keys())[i]] = percent\n",
    "\n",
    "    return percent_outlier_dict"
   ]
  },
  {
   "cell_type": "code",
   "execution_count": 564,
   "metadata": {},
   "outputs": [
    {
     "data": {
      "text/plain": [
       "{'Precio': 0.028150714595062798, 'Cantidad': 1.504980511043742}"
      ]
     },
     "execution_count": 564,
     "metadata": {},
     "output_type": "execute_result"
    }
   ],
   "source": [
    "outlier_percent(df_venta)\n",
    "\n"
   ]
  },
  {
   "cell_type": "code",
   "execution_count": 537,
   "metadata": {},
   "outputs": [
    {
     "data": {
      "text/plain": [
       "19       7.751744\n",
       "83       4.944337\n",
       "100      4.944337\n",
       "154      4.944337\n",
       "159      4.944337\n",
       "           ...   \n",
       "45747    4.944337\n",
       "45976    4.944337\n",
       "46141    4.944337\n",
       "46161    4.944337\n",
       "46162    4.944337\n",
       "Name: Cantidad, Length: 695, dtype: float64"
      ]
     },
     "execution_count": 537,
     "metadata": {},
     "output_type": "execute_result"
    }
   ],
   "source": [
    "z = np.abs(stats.zscore(df_venta['Cantidad'].dropna()))\n",
    "z[z > 3]\n",
    "\n"
   ]
  },
  {
   "cell_type": "code",
   "execution_count": null,
   "metadata": {},
   "outputs": [],
   "source": []
  },
  {
   "cell_type": "code",
   "execution_count": 207,
   "metadata": {},
   "outputs": [
    {
     "data": {
      "image/png": "[encoded data removed]",
      "text/plain": [
       "<Figure size 640x480 with 2 Axes>"
      ]
     },
     "metadata": {},
     "output_type": "display_data"
    }
   ],
   "source": [
    "null, axs = plt.subplots(2,1)\n",
    "null.suptitle(f'Valores nulos de {labels[-1]}')\n",
    "axs[0].set_title('Hola')\n",
    "sns.barplot(ax=axs[0],x=dt.index,y=dt.values)\n",
    "plt.tight_layout()\n",
    "plt.show()"
   ]
  },
  {
   "cell_type": "code",
   "execution_count": 288,
   "metadata": {},
   "outputs": [
    {
     "data": {
      "text/html": [
       "<div>\n",
       "<style scoped>\n",
       "    .dataframe tbody tr th:only-of-type {\n",
       "        vertical-align: middle;\n",
       "    }\n",
       "\n",
       "    .dataframe tbody tr th {\n",
       "        vertical-align: top;\n",
       "    }\n",
       "\n",
       "    .dataframe thead th {\n",
       "        text-align: right;\n",
       "    }\n",
       "</style>\n",
       "<table border=\"1\" class=\"dataframe\">\n",
       "  <thead>\n",
       "    <tr style=\"text-align: right;\">\n",
       "      <th></th>\n",
       "      <th>categoria</th>\n",
       "      <th>centroide_lat</th>\n",
       "      <th>centroide_lon</th>\n",
       "      <th>departamento_id</th>\n",
       "      <th>departamento_nombre</th>\n",
       "      <th>fuente</th>\n",
       "      <th>id</th>\n",
       "      <th>localidad_censal_id</th>\n",
       "      <th>localidad_censal_nombre</th>\n",
       "      <th>municipio_id</th>\n",
       "      <th>municipio_nombre</th>\n",
       "      <th>nombre</th>\n",
       "      <th>provincia_id</th>\n",
       "      <th>provincia_nombre</th>\n",
       "    </tr>\n",
       "  </thead>\n",
       "  <tbody>\n",
       "    <tr>\n",
       "      <th>0</th>\n",
       "      <td>Localidad simple</td>\n",
       "      <td>-35.033073</td>\n",
       "      <td>-60.280620</td>\n",
       "      <td>6021.0</td>\n",
       "      <td>Alberti</td>\n",
       "      <td>INDEC</td>\n",
       "      <td>6021010000</td>\n",
       "      <td>6021010</td>\n",
       "      <td>Alberti</td>\n",
       "      <td>60021.0</td>\n",
       "      <td>Alberti</td>\n",
       "      <td>ALBERTI</td>\n",
       "      <td>6</td>\n",
       "      <td>Buenos Aires</td>\n",
       "    </tr>\n",
       "    <tr>\n",
       "      <th>1</th>\n",
       "      <td>Localidad simple</td>\n",
       "      <td>-34.868119</td>\n",
       "      <td>-60.393971</td>\n",
       "      <td>6021.0</td>\n",
       "      <td>Alberti</td>\n",
       "      <td>INDEC</td>\n",
       "      <td>6021020000</td>\n",
       "      <td>6021020</td>\n",
       "      <td>Coronel Seguí</td>\n",
       "      <td>60021.0</td>\n",
       "      <td>Alberti</td>\n",
       "      <td>CORONEL SEGUI</td>\n",
       "      <td>6</td>\n",
       "      <td>Buenos Aires</td>\n",
       "    </tr>\n",
       "    <tr>\n",
       "      <th>2</th>\n",
       "      <td>Componente de localidad compuesta</td>\n",
       "      <td>-35.068014</td>\n",
       "      <td>-60.402597</td>\n",
       "      <td>6021.0</td>\n",
       "      <td>Alberti</td>\n",
       "      <td>INDEC</td>\n",
       "      <td>6021030000</td>\n",
       "      <td>6021030</td>\n",
       "      <td>Mechita</td>\n",
       "      <td>60021.0</td>\n",
       "      <td>Alberti</td>\n",
       "      <td>MECHITA</td>\n",
       "      <td>6</td>\n",
       "      <td>Buenos Aires</td>\n",
       "    </tr>\n",
       "    <tr>\n",
       "      <th>3</th>\n",
       "      <td>Localidad simple</td>\n",
       "      <td>-35.124382</td>\n",
       "      <td>-60.220061</td>\n",
       "      <td>6021.0</td>\n",
       "      <td>Alberti</td>\n",
       "      <td>INDEC</td>\n",
       "      <td>6021040000</td>\n",
       "      <td>6021040</td>\n",
       "      <td>Pla</td>\n",
       "      <td>60021.0</td>\n",
       "      <td>Alberti</td>\n",
       "      <td>PLA</td>\n",
       "      <td>6</td>\n",
       "      <td>Buenos Aires</td>\n",
       "    </tr>\n",
       "    <tr>\n",
       "      <th>4</th>\n",
       "      <td>Localidad simple</td>\n",
       "      <td>-35.109618</td>\n",
       "      <td>-60.070551</td>\n",
       "      <td>6021.0</td>\n",
       "      <td>Alberti</td>\n",
       "      <td>INDEC</td>\n",
       "      <td>6021050000</td>\n",
       "      <td>6021050</td>\n",
       "      <td>Villa Grisolía</td>\n",
       "      <td>60021.0</td>\n",
       "      <td>Alberti</td>\n",
       "      <td>VILLA GRISOLIA</td>\n",
       "      <td>6</td>\n",
       "      <td>Buenos Aires</td>\n",
       "    </tr>\n",
       "  </tbody>\n",
       "</table>\n",
       "</div>"
      ],
      "text/plain": [
       "                           categoria  centroide_lat  centroide_lon  \\\n",
       "0                   Localidad simple     -35.033073     -60.280620   \n",
       "1                   Localidad simple     -34.868119     -60.393971   \n",
       "2  Componente de localidad compuesta     -35.068014     -60.402597   \n",
       "3                   Localidad simple     -35.124382     -60.220061   \n",
       "4                   Localidad simple     -35.109618     -60.070551   \n",
       "\n",
       "   departamento_id departamento_nombre fuente          id  \\\n",
       "0           6021.0             Alberti  INDEC  6021010000   \n",
       "1           6021.0             Alberti  INDEC  6021020000   \n",
       "2           6021.0             Alberti  INDEC  6021030000   \n",
       "3           6021.0             Alberti  INDEC  6021040000   \n",
       "4           6021.0             Alberti  INDEC  6021050000   \n",
       "\n",
       "   localidad_censal_id localidad_censal_nombre  municipio_id municipio_nombre  \\\n",
       "0              6021010                 Alberti       60021.0          Alberti   \n",
       "1              6021020           Coronel Seguí       60021.0          Alberti   \n",
       "2              6021030                 Mechita       60021.0          Alberti   \n",
       "3              6021040                     Pla       60021.0          Alberti   \n",
       "4              6021050          Villa Grisolía       60021.0          Alberti   \n",
       "\n",
       "           nombre  provincia_id provincia_nombre  \n",
       "0         ALBERTI             6     Buenos Aires  \n",
       "1   CORONEL SEGUI             6     Buenos Aires  \n",
       "2         MECHITA             6     Buenos Aires  \n",
       "3             PLA             6     Buenos Aires  \n",
       "4  VILLA GRISOLIA             6     Buenos Aires  "
      ]
     },
     "execution_count": 288,
     "metadata": {},
     "output_type": "execute_result"
    }
   ],
   "source": [
    "df_localidades = pd.read_csv('in/Localidades.csv')\n",
    "df_localidades.head(5)"
   ]
  },
  {
   "cell_type": "markdown",
   "metadata": {},
   "source": [
    " "
   ]
  },
  {
   "cell_type": "code",
   "execution_count": 298,
   "metadata": {},
   "outputs": [
    {
     "data": {
      "text/plain": [
       "array(['Buenos Aires', 'Catamarca', 'Córdoba', 'Corrientes', 'Chaco',\n",
       "       'Chubut', 'Entre Ríos', 'Formosa', 'Jujuy', 'La Pampa', 'La Rioja',\n",
       "       'Mendoza', 'Misiones', 'Neuquén', 'Río Negro', 'Salta', 'San Juan',\n",
       "       'San Luis', 'Santa Cruz', 'Santa Fe', 'Santiago del Estero',\n",
       "       'Tucumán', 'Tierra del Fuego, Antártida e Islas del Atlántico Sur'],\n",
       "      dtype=object)"
      ]
     },
     "execution_count": 298,
     "metadata": {},
     "output_type": "execute_result"
    }
   ],
   "source": [
    "df_localidades.departamento_nombre.unique()\n",
    "df_localidades.municipio_nombre.unique()\n",
    "df_localidades.localidad_censal_nombre.unique()\n",
    "df_localidades.provincia_nombre.unique()\n"
   ]
  },
  {
   "cell_type": "code",
   "execution_count": 334,
   "metadata": {},
   "outputs": [],
   "source": [
    "df_sucursales = pd.read_csv('in/Sucursales.csv', sep=';')\n",
    "buenos_aires = ['Ciudad de Buenos Aires', 'CABA', 'C deBuenos Aires', 'Bs As', 'Bs.As. ', 'Buenos Aires', 'B. Aires', 'B.Aires', 'Provincia de Buenos Aires', 'Prov de Bs As.', 'Pcia Bs AS']\n"
   ]
  },
  {
   "cell_type": "code",
   "execution_count": null,
   "metadata": {},
   "outputs": [],
   "source": [
    "df_sucursales[['Latitud','Longitud']] = pd.to_numeric(df_sucursales[['Latitud','Longitud']], errors = \"coerce\")\n",
    "df_sucursales[['Latitud','Longitud']] = df_sucursales[['Latitud','Longitud']].replace(np.nan, 0, regex=True)\n",
    "\n",
    "df_sucursales[['Latitud','Longitud']].dtypes\n"
   ]
  },
  {
   "cell_type": "code",
   "execution_count": 318,
   "metadata": {},
   "outputs": [
    {
     "data": {
      "text/plain": [
       "'Latitud'"
      ]
     },
     "execution_count": 318,
     "metadata": {},
     "output_type": "execute_result"
    }
   ],
   "source": [
    "cord_label = ['Latitud','Longitud']\n",
    "\n"
   ]
  },
  {
   "cell_type": "code",
   "execution_count": 337,
   "metadata": {},
   "outputs": [
    {
     "data": {
      "text/plain": [
       "0    -34,5678060\n",
       "1    -34,5790350\n",
       "2    -34,5959660\n",
       "3    -34,6046850\n",
       "4    -34,6173080\n",
       "Name: Latitud, dtype: object"
      ]
     },
     "execution_count": 337,
     "metadata": {},
     "output_type": "execute_result"
    }
   ],
   "source": [
    "df_sucursales.Latitud.head()"
   ]
  },
  {
   "cell_type": "code",
   "execution_count": 376,
   "metadata": {},
   "outputs": [],
   "source": [
    "df_sucursales = pd.read_csv('in/Sucursales.csv', sep=';')"
   ]
  },
  {
   "cell_type": "code",
   "execution_count": 377,
   "metadata": {},
   "outputs": [
    {
     "data": {
      "text/plain": [
       "0   -58.449572\n",
       "1   -58.433566\n",
       "2   -58.405150\n",
       "3   -58.398764\n",
       "4   -58.416179\n",
       "Name: Longitud, dtype: float64"
      ]
     },
     "execution_count": 377,
     "metadata": {},
     "output_type": "execute_result"
    }
   ],
   "source": [
    "cord_label = ['Latitud','Longitud']\n",
    "for label in cord_label:\n",
    "    df_sucursales[label] = df_sucursales[label].replace(',','.',regex=True)   \n",
    "    df_sucursales[label] = df_sucursales[label].astype(float)\n",
    "    df_sucursales[label] = df_sucursales[label].apply(lambda x : -x if x > 0 else x )\n",
    "\n",
    "df_sucursales.Longitud.head()\n"
   ]
  },
  {
   "cell_type": "code",
   "execution_count": 384,
   "metadata": {},
   "outputs": [],
   "source": [
    "df_clientes = pd.read_csv('in/Clientes.csv', sep=';')\n"
   ]
  },
  {
   "cell_type": "code",
   "execution_count": 386,
   "metadata": {},
   "outputs": [
    {
     "data": {
      "text/plain": [
       "0   -58.818503\n",
       "1   -58.730738\n",
       "2   -59.127941\n",
       "3   -58.143940\n",
       "4   -58.893810\n",
       "Name: X, dtype: float64"
      ]
     },
     "execution_count": 386,
     "metadata": {},
     "output_type": "execute_result"
    }
   ],
   "source": [
    "cord_label = ['X','Y']\n",
    "for label in cord_label:\n",
    "    df_clientes[label] = df_clientes[label].replace(',','.',regex=True)   \n",
    "    df_clientes[label] = df_clientes[label].replace('',np.nan,regex=True)\n",
    "    df_clientes[label] = pd.to_numeric(df_clientes[label], errors='coerce')\n",
    "    df_clientes[label] = df_clientes[label].apply(lambda x : -x if x > 0 else x )\n",
    "\n"
   ]
  },
  {
   "cell_type": "code",
   "execution_count": 422,
   "metadata": {},
   "outputs": [],
   "source": [
    "df_clientes = pd.read_csv('in/Clientes.csv', sep=';')\n"
   ]
  },
  {
   "cell_type": "code",
   "execution_count": 427,
   "metadata": {},
   "outputs": [],
   "source": [
    "df_clientes['Telefono'] = df_clientes['Telefono'].replace('-','', regex= True)\n",
    "df_clientes['Telefono'] = df_clientes['Telefono'].replace('/','', regex= True)\n",
    "df_clientes['Telefono'] = df_clientes['Telefono'].replace(' ','', regex= True)\n",
    "df_clientes['Telefono'] = pd.to_numeric(df_clientes['Telefono'], errors='coerce',downcast='integer')\n"
   ]
  },
  {
   "cell_type": "code",
   "execution_count": 431,
   "metadata": {},
   "outputs": [
    {
     "data": {
      "text/plain": [
       "0    58.0\n",
       "1    61.0\n",
       "2    15.0\n",
       "3    29.0\n",
       "4    34.0\n",
       "Name: Edad, dtype: float64"
      ]
     },
     "execution_count": 431,
     "metadata": {},
     "output_type": "execute_result"
    }
   ],
   "source": [
    "df_clientes['Edad'] = pd.to_numeric(df_clientes['Edad'])\n",
    "df_clientes['Edad'].head()"
   ]
  }
 ],
 "metadata": {
  "kernelspec": {
   "display_name": "Python 3.9.5 ('venv': venv)",
   "language": "python",
   "name": "python3"
  },
  "language_info": {
   "codemirror_mode": {
    "name": "ipython",
    "version": 3
   },
   "file_extension": ".py",
   "mimetype": "text/x-python",
   "name": "python",
   "nbconvert_exporter": "python",
   "pygments_lexer": "ipython3",
   "version": "3.9.5"
  },
  "orig_nbformat": 4,
  "vscode": {
   "interpreter": {
    "hash": "ef3b4246056a042b581cfcdf362929c58eae157cb68296e61bd8dc0c23595a1e"
   }
  }
 },
 "nbformat": 4,
 "nbformat_minor": 2
}
